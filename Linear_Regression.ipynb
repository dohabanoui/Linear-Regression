{
 "cells": [
  {
   "cell_type": "markdown",
   "id": "dca740d3",
   "metadata": {
    "toc": true
   },
   "source": [
    "<h1>Table of Contents<span class=\"tocSkip\"></span></h1>\n",
    "<div class=\"toc\"><ul class=\"toc-item\"><li><span><a href=\"#La-regression-lineaire\" data-toc-modified-id=\"La-regression-lineaire-1\"><span class=\"toc-item-num\">1&nbsp;&nbsp;</span>La regression lineaire</a></span><ul class=\"toc-item\"><li><span><a href=\"#Le-modele\" data-toc-modified-id=\"Le-modele-1.1\"><span class=\"toc-item-num\">1.1&nbsp;&nbsp;</span>Le modele</a></span></li><li><span><a href=\"#Les-erreurs-du-modele\" data-toc-modified-id=\"Les-erreurs-du-modele-1.2\"><span class=\"toc-item-num\">1.2&nbsp;&nbsp;</span>Les erreurs du modele</a></span></li><li><span><a href=\"#Gradient\" data-toc-modified-id=\"Gradient-1.3\"><span class=\"toc-item-num\">1.3&nbsp;&nbsp;</span>Gradient</a></span></li><li><span><a href=\"#Evaluation-du-modèle\" data-toc-modified-id=\"Evaluation-du-modèle-1.4\"><span class=\"toc-item-num\">1.4&nbsp;&nbsp;</span>Evaluation du modèle</a></span></li></ul></li><li><span><a href=\"#Analyse-du--Dataset\" data-toc-modified-id=\"Analyse-du--Dataset-2\"><span class=\"toc-item-num\">2&nbsp;&nbsp;</span>Analyse du  Dataset</a></span><ul class=\"toc-item\"><li><span><a href=\"#Affichage-de-la-forme-du-DataFrame\" data-toc-modified-id=\"Affichage-de-la-forme-du-DataFrame-2.1\"><span class=\"toc-item-num\">2.1&nbsp;&nbsp;</span>Affichage de la forme du DataFrame</a></span></li><li><span><a href=\"#Statistiques-descriptives\" data-toc-modified-id=\"Statistiques-descriptives-2.2\"><span class=\"toc-item-num\">2.2&nbsp;&nbsp;</span>Statistiques descriptives</a></span></li><li><span><a href=\"#Vérification-des-valeurs-manquantes\" data-toc-modified-id=\"Vérification-des-valeurs-manquantes-2.3\"><span class=\"toc-item-num\">2.3&nbsp;&nbsp;</span>Vérification des valeurs manquantes</a></span></li><li><span><a href=\"#Les-colonnes-existants\" data-toc-modified-id=\"Les-colonnes-existants-2.4\"><span class=\"toc-item-num\">2.4&nbsp;&nbsp;</span>Les colonnes existants</a></span></li><li><span><a href=\"#Analyse-de-la-corrélation-entre-les-variables\" data-toc-modified-id=\"Analyse-de-la-corrélation-entre-les-variables-2.5\"><span class=\"toc-item-num\">2.5&nbsp;&nbsp;</span>Analyse de la corrélation entre les variables</a></span></li><li><span><a href=\"#Traitement-du-shape\" data-toc-modified-id=\"Traitement-du-shape-2.6\"><span class=\"toc-item-num\">2.6&nbsp;&nbsp;</span>Traitement du shape</a></span></li></ul></li><li><span><a href=\"#Standardisation-du-data\" data-toc-modified-id=\"Standardisation-du-data-3\"><span class=\"toc-item-num\">3&nbsp;&nbsp;</span>Standardisation du data</a></span></li><li><span><a href=\"#Traitement-de-performance\" data-toc-modified-id=\"Traitement-de-performance-4\"><span class=\"toc-item-num\">4&nbsp;&nbsp;</span>Traitement de performance</a></span><ul class=\"toc-item\"><li><span><a href=\"#Création-de-la-matrice-X\" data-toc-modified-id=\"Création-de-la-matrice-X-4.1\"><span class=\"toc-item-num\">4.1&nbsp;&nbsp;</span>Création de la matrice X</a></span></li><li><span><a href=\"#Creation-du-Theta\" data-toc-modified-id=\"Creation-du-Theta-4.2\"><span class=\"toc-item-num\">4.2&nbsp;&nbsp;</span>Creation du Theta</a></span></li><li><span><a href=\"#Modèle-Linéaire\" data-toc-modified-id=\"Modèle-Linéaire-4.3\"><span class=\"toc-item-num\">4.3&nbsp;&nbsp;</span>Modèle Linéaire</a></span></li><li><span><a href=\"#Fonction-coût-:-Erreur-Quadratique-Moyenne\" data-toc-modified-id=\"Fonction-coût-:-Erreur-Quadratique-Moyenne-4.4\"><span class=\"toc-item-num\">4.4&nbsp;&nbsp;</span>Fonction coût : Erreur Quadratique Moyenne</a></span></li><li><span><a href=\"#Phase-d'entrainement\" data-toc-modified-id=\"Phase-d'entrainement-4.5\"><span class=\"toc-item-num\">4.5&nbsp;&nbsp;</span>Phase d'entrainement</a></span><ul class=\"toc-item\"><li><span><a href=\"#Score\" data-toc-modified-id=\"Score-4.5.1\"><span class=\"toc-item-num\">4.5.1&nbsp;&nbsp;</span>Score</a></span></li></ul></li></ul></li><li><span><a href=\"#On-teste-pour-une-faible-correlation\" data-toc-modified-id=\"On-teste-pour-une-faible-correlation-5\"><span class=\"toc-item-num\">5&nbsp;&nbsp;</span>On teste pour une faible correlation</a></span></li><li><span><a href=\"#Conclusion\" data-toc-modified-id=\"Conclusion-6\"><span class=\"toc-item-num\">6&nbsp;&nbsp;</span>Conclusion</a></span></li></ul></div>"
   ]
  },
  {
   "cell_type": "markdown",
   "id": "0c221bfc",
   "metadata": {
    "tags": []
   },
   "source": [
    "# La regression lineaire\n",
    "La regression lineaire est un algorithme simple qui modélise une relation linéaire entre les entrées et une variable de sortie numérique continue."
   ]
  },
  {
   "cell_type": "markdown",
   "id": "f1d6ed9b",
   "metadata": {},
   "source": [
    "## Le modele\n",
    "On implémente un modèle selon l'équation matricielle <mark>$\\displaystyle F=X.θ$</mark> et puis on teste le modèle initiale défini par la valeur initiale de $\\displaystyle θ$ qu'on a initialisé d'une manière aléatoire.\n",
    "## Les erreurs du modele\n",
    "On mesure les erreurs du modele sur le Dataset X, y en implémenterl'erreur quadratique moyenne.\n",
    "\n",
    "$$\n",
    "\\displaystyle\n",
    "J(θ) = \\frac{1}{2m} \\sum_{i=1}^{m} (h_{θ}(x^{(i)}) - y^{(i)})^{2}  \\\\\n",
    "h_{θ}(x) = θ^{T}x = θ_{0} + θ_{1}x_{1}\n",
    "$$\n",
    "\n",
    "## Gradient \n",
    "On implémente la formule du gradient pour la MSE     \n",
    "\n",
    "$$\n",
    "\\frac{\\partial J(θ)}{\\partial θ} = \\frac{1}{m} X^{T}.(X.θ - y)\n",
    "$$\n",
    "\n",
    "et par la suite on utilise cette fonction dans la descente de gradient:    \n",
    "\n",
    "$$\n",
    "\\displaystyle\n",
    "θ = θ - \\alpha \\frac{\\partial J(θ)}{\\partial θ} \n",
    "$$\n",
    "\n",
    "![graphe.png](https://miro.medium.com/v2/resize:fit:640/format:webp/1*lYpF8xJ3TiDoq461I0AcOQ.jpeg)\n",
    "\n",
    "## Evaluation du modèle\n",
    "Evaluation du modèle - Coefficient de détermination      \n",
    "**RSE : RELATIVE Squared Error (L'erreur carrée relative)** :\n",
    "\n",
    "$$\n",
    "RSE = \\frac{\\sum_{i=1}^{m} (f(x_{i}) - y_{i})^{2}}{\\sum_{i=1}^{m} \\left(y - \\frac{1}{m}\\sum_{j=1}^{m} y_{j}\\right)^{2}}\n",
    "$$\n",
    "\n",
    "le complement à 1 de la $\\displaystyle RSE$ et le coefficient de mdetermination noté $\\displaystyle R^{2}$\n",
    "Tel que : $\\displaystyle R^{2} = 1 - RSE$. Le modèle idéale donne  $\\displaystyle R^{2} = 1$\n",
    "\n",
    "![gradien_gif_url](https://muthu.co/wp-content/uploads/2018/09/1_xc5CSmK9d8oeKYxKxenEGg.gif)"
   ]
  },
  {
   "cell_type": "code",
   "execution_count": 1,
   "id": "58075db8",
   "metadata": {},
   "outputs": [],
   "source": [
    "import pandas as pd\n",
    "import numpy as np\n",
    "import matplotlib.pyplot as plt\n",
    "import seaborn as sns\n",
    "from main import *\n",
    "from sklearn.preprocessing import StandardScaler\n",
    "%matplotlib inline"
   ]
  },
  {
   "cell_type": "markdown",
   "id": "f481a45d",
   "metadata": {},
   "source": [
    "# Analyse du  Dataset"
   ]
  },
  {
   "cell_type": "markdown",
   "id": "4e7037c9",
   "metadata": {},
   "source": [
    "Dataset \"Advertising\" collecte des informations sur les ventes de produits et les dépenses publicitaires dans:\n",
    "- la télévision\n",
    "- la radio\n",
    "- les journaux \n",
    "\n",
    "L'objectif principal de cette dataset est d'explorer la relation entre les dépenses publicitaires dans ces médias et les ventes générées."
   ]
  },
  {
   "cell_type": "code",
   "execution_count": 7,
   "id": "6d472a1f-cb9d-4ae3-9615-1b838068d72a",
   "metadata": {
    "scrolled": false,
    "tags": []
   },
   "outputs": [
    {
     "data": {
      "text/html": [
       "<div>\n",
       "<style scoped>\n",
       "    .dataframe tbody tr th:only-of-type {\n",
       "        vertical-align: middle;\n",
       "    }\n",
       "\n",
       "    .dataframe tbody tr th {\n",
       "        vertical-align: top;\n",
       "    }\n",
       "\n",
       "    .dataframe thead th {\n",
       "        text-align: right;\n",
       "    }\n",
       "</style>\n",
       "<table border=\"1\" class=\"dataframe\">\n",
       "  <thead>\n",
       "    <tr style=\"text-align: right;\">\n",
       "      <th></th>\n",
       "      <th>TV</th>\n",
       "      <th>Radio</th>\n",
       "      <th>Newspaper</th>\n",
       "      <th>Sales</th>\n",
       "    </tr>\n",
       "  </thead>\n",
       "  <tbody>\n",
       "    <tr>\n",
       "      <th>0</th>\n",
       "      <td>230.1</td>\n",
       "      <td>37.8</td>\n",
       "      <td>69.2</td>\n",
       "      <td>22.1</td>\n",
       "    </tr>\n",
       "    <tr>\n",
       "      <th>1</th>\n",
       "      <td>44.5</td>\n",
       "      <td>39.3</td>\n",
       "      <td>45.1</td>\n",
       "      <td>10.4</td>\n",
       "    </tr>\n",
       "    <tr>\n",
       "      <th>2</th>\n",
       "      <td>17.2</td>\n",
       "      <td>45.9</td>\n",
       "      <td>69.3</td>\n",
       "      <td>12.0</td>\n",
       "    </tr>\n",
       "    <tr>\n",
       "      <th>3</th>\n",
       "      <td>151.5</td>\n",
       "      <td>41.3</td>\n",
       "      <td>58.5</td>\n",
       "      <td>16.5</td>\n",
       "    </tr>\n",
       "    <tr>\n",
       "      <th>4</th>\n",
       "      <td>180.8</td>\n",
       "      <td>10.8</td>\n",
       "      <td>58.4</td>\n",
       "      <td>17.9</td>\n",
       "    </tr>\n",
       "  </tbody>\n",
       "</table>\n",
       "</div>"
      ],
      "text/plain": [
       "      TV  Radio  Newspaper  Sales\n",
       "0  230.1   37.8       69.2   22.1\n",
       "1   44.5   39.3       45.1   10.4\n",
       "2   17.2   45.9       69.3   12.0\n",
       "3  151.5   41.3       58.5   16.5\n",
       "4  180.8   10.8       58.4   17.9"
      ]
     },
     "execution_count": 7,
     "metadata": {},
     "output_type": "execute_result"
    }
   ],
   "source": [
    "# import the data\n",
    "df = pd.read_csv('advertising.csv')\n",
    "df.head()"
   ]
  },
  {
   "cell_type": "markdown",
   "id": "91afa0ba",
   "metadata": {},
   "source": [
    "## Affichage de la forme du DataFrame"
   ]
  },
  {
   "cell_type": "code",
   "execution_count": 8,
   "id": "39b4f09a",
   "metadata": {},
   "outputs": [
    {
     "data": {
      "text/plain": [
       "(200, 4)"
      ]
     },
     "execution_count": 8,
     "metadata": {},
     "output_type": "execute_result"
    }
   ],
   "source": [
    "df.shape"
   ]
  },
  {
   "cell_type": "markdown",
   "id": "49953809",
   "metadata": {},
   "source": [
    "## Statistiques descriptives"
   ]
  },
  {
   "cell_type": "code",
   "execution_count": 9,
   "id": "e55c79f4",
   "metadata": {
    "scrolled": true
   },
   "outputs": [
    {
     "data": {
      "text/html": [
       "<div>\n",
       "<style scoped>\n",
       "    .dataframe tbody tr th:only-of-type {\n",
       "        vertical-align: middle;\n",
       "    }\n",
       "\n",
       "    .dataframe tbody tr th {\n",
       "        vertical-align: top;\n",
       "    }\n",
       "\n",
       "    .dataframe thead th {\n",
       "        text-align: right;\n",
       "    }\n",
       "</style>\n",
       "<table border=\"1\" class=\"dataframe\">\n",
       "  <thead>\n",
       "    <tr style=\"text-align: right;\">\n",
       "      <th></th>\n",
       "      <th>TV</th>\n",
       "      <th>Radio</th>\n",
       "      <th>Newspaper</th>\n",
       "      <th>Sales</th>\n",
       "    </tr>\n",
       "  </thead>\n",
       "  <tbody>\n",
       "    <tr>\n",
       "      <th>count</th>\n",
       "      <td>200.000000</td>\n",
       "      <td>200.000000</td>\n",
       "      <td>200.000000</td>\n",
       "      <td>200.000000</td>\n",
       "    </tr>\n",
       "    <tr>\n",
       "      <th>mean</th>\n",
       "      <td>147.042500</td>\n",
       "      <td>23.264000</td>\n",
       "      <td>30.554000</td>\n",
       "      <td>15.130500</td>\n",
       "    </tr>\n",
       "    <tr>\n",
       "      <th>std</th>\n",
       "      <td>85.854236</td>\n",
       "      <td>14.846809</td>\n",
       "      <td>21.778621</td>\n",
       "      <td>5.283892</td>\n",
       "    </tr>\n",
       "    <tr>\n",
       "      <th>min</th>\n",
       "      <td>0.700000</td>\n",
       "      <td>0.000000</td>\n",
       "      <td>0.300000</td>\n",
       "      <td>1.600000</td>\n",
       "    </tr>\n",
       "    <tr>\n",
       "      <th>25%</th>\n",
       "      <td>74.375000</td>\n",
       "      <td>9.975000</td>\n",
       "      <td>12.750000</td>\n",
       "      <td>11.000000</td>\n",
       "    </tr>\n",
       "    <tr>\n",
       "      <th>50%</th>\n",
       "      <td>149.750000</td>\n",
       "      <td>22.900000</td>\n",
       "      <td>25.750000</td>\n",
       "      <td>16.000000</td>\n",
       "    </tr>\n",
       "    <tr>\n",
       "      <th>75%</th>\n",
       "      <td>218.825000</td>\n",
       "      <td>36.525000</td>\n",
       "      <td>45.100000</td>\n",
       "      <td>19.050000</td>\n",
       "    </tr>\n",
       "    <tr>\n",
       "      <th>max</th>\n",
       "      <td>296.400000</td>\n",
       "      <td>49.600000</td>\n",
       "      <td>114.000000</td>\n",
       "      <td>27.000000</td>\n",
       "    </tr>\n",
       "  </tbody>\n",
       "</table>\n",
       "</div>"
      ],
      "text/plain": [
       "               TV       Radio   Newspaper       Sales\n",
       "count  200.000000  200.000000  200.000000  200.000000\n",
       "mean   147.042500   23.264000   30.554000   15.130500\n",
       "std     85.854236   14.846809   21.778621    5.283892\n",
       "min      0.700000    0.000000    0.300000    1.600000\n",
       "25%     74.375000    9.975000   12.750000   11.000000\n",
       "50%    149.750000   22.900000   25.750000   16.000000\n",
       "75%    218.825000   36.525000   45.100000   19.050000\n",
       "max    296.400000   49.600000  114.000000   27.000000"
      ]
     },
     "execution_count": 9,
     "metadata": {},
     "output_type": "execute_result"
    }
   ],
   "source": [
    "df.describe()"
   ]
  },
  {
   "cell_type": "markdown",
   "id": "a15c0b62",
   "metadata": {},
   "source": [
    "## Vérification des valeurs manquantes"
   ]
  },
  {
   "cell_type": "markdown",
   "id": "1583fb4a",
   "metadata": {},
   "source": [
    "On trouve aucune valeur null. "
   ]
  },
  {
   "cell_type": "code",
   "execution_count": 10,
   "id": "ece23113",
   "metadata": {
    "scrolled": true
   },
   "outputs": [
    {
     "name": "stdout",
     "output_type": "stream",
     "text": [
      "TV : False\n",
      "Radio : False\n",
      "Newspaper : False\n",
      "Sales : False\n"
     ]
    }
   ],
   "source": [
    "#df.duplicated()\n",
    "for col in [df.columns[i] for i in range(0, len(df.columns))]:\n",
    "    print(col,':', any(df[col].isna()))"
   ]
  },
  {
   "cell_type": "markdown",
   "id": "07ef5e3d",
   "metadata": {},
   "source": [
    "## Les colonnes existants"
   ]
  },
  {
   "cell_type": "code",
   "execution_count": 11,
   "id": "b0414ecd",
   "metadata": {},
   "outputs": [
    {
     "data": {
      "text/plain": [
       "Index(['TV', 'Radio', 'Newspaper', 'Sales'], dtype='object')"
      ]
     },
     "execution_count": 11,
     "metadata": {},
     "output_type": "execute_result"
    }
   ],
   "source": [
    "df.columns"
   ]
  },
  {
   "cell_type": "markdown",
   "id": "d9e34c17",
   "metadata": {},
   "source": [
    "## Analyse de la corrélation entre les variables"
   ]
  },
  {
   "cell_type": "code",
   "execution_count": 12,
   "id": "686ff352-f65c-46b4-8f37-dfb2e9c135c3",
   "metadata": {
    "scrolled": false
   },
   "outputs": [
    {
     "data": {
      "image/png": "[encoded data removed]",
      "text/plain": [
       "<Figure size 640x480 with 2 Axes>"
      ]
     },
     "metadata": {},
     "output_type": "display_data"
    }
   ],
   "source": [
    "cor = df.corr()\n",
    "sns.heatmap(cor, annot=True, cmap=plt.cm.Reds)\n",
    "plt.show()"
   ]
  },
  {
   "cell_type": "markdown",
   "id": "cfd9b88d",
   "metadata": {},
   "source": [
    "> On remarque qu il ya une forte correlation entre TV est Sales avec valeur de 0.9 qui est proche de 1"
   ]
  },
  {
   "cell_type": "code",
   "execution_count": 13,
   "id": "e7d027b4-9e06-4260-844d-c6f6e413453e",
   "metadata": {
    "scrolled": false,
    "tags": []
   },
   "outputs": [
    {
     "data": {
      "image/png": "[encoded data removed]",
      "text/plain": [
       "<Figure size 640x480 with 1 Axes>"
      ]
     },
     "metadata": {},
     "output_type": "display_data"
    }
   ],
   "source": [
    "plt.scatter(df[\"TV\"], df[\"Sales\"])\n",
    "plt.xlabel('TV')\n",
    "plt.ylabel('Sales')\n",
    "plt.show()"
   ]
  },
  {
   "cell_type": "code",
   "execution_count": 14,
   "id": "0ddd684e",
   "metadata": {},
   "outputs": [
    {
     "data": {
      "text/plain": [
       "<seaborn.axisgrid.FacetGrid at 0x1f8c711d8e0>"
      ]
     },
     "execution_count": 14,
     "metadata": {},
     "output_type": "execute_result"
    },
    {
     "data": {
      "image/png": "[encoded data removed]",
      "text/plain": [
       "<Figure size 500x500 with 1 Axes>"
      ]
     },
     "metadata": {},
     "output_type": "display_data"
    }
   ],
   "source": [
    "sns.lmplot(data=df, x='TV', y='Sales')"
   ]
  },
  {
   "cell_type": "markdown",
   "id": "dbe82cef",
   "metadata": {},
   "source": [
    "## Traitement du shape "
   ]
  },
  {
   "cell_type": "code",
   "execution_count": 15,
   "id": "7d4ced8b-7b16-4a93-abc8-da002221d94f",
   "metadata": {
    "tags": []
   },
   "outputs": [
    {
     "data": {
      "text/plain": [
       "((200,), (200,))"
      ]
     },
     "execution_count": 15,
     "metadata": {},
     "output_type": "execute_result"
    }
   ],
   "source": [
    "x, y = np.array(df[\"TV\"]), np.array(df[\"Sales\"])\n",
    "x.shape, y.shape"
   ]
  },
  {
   "cell_type": "code",
   "execution_count": 16,
   "id": "a0018349-5b79-4da7-8e86-6b2c54f5d8f6",
   "metadata": {
    "tags": []
   },
   "outputs": [],
   "source": [
    "x = x.reshape(-1, 1)\n",
    "y = y.reshape(-1,1)"
   ]
  },
  {
   "cell_type": "code",
   "execution_count": 17,
   "id": "5171f4f8-1da4-4fd5-8072-617cb642ff2e",
   "metadata": {
    "tags": []
   },
   "outputs": [
    {
     "data": {
      "text/plain": [
       "((200, 1), (200, 1))"
      ]
     },
     "execution_count": 17,
     "metadata": {},
     "output_type": "execute_result"
    }
   ],
   "source": [
    "x.shape, y.shape"
   ]
  },
  {
   "cell_type": "markdown",
   "id": "79ffa45a",
   "metadata": {},
   "source": [
    "# Standardisation du data"
   ]
  },
  {
   "cell_type": "markdown",
   "id": "2c565b90",
   "metadata": {},
   "source": [
    "une variable centrée réduite est la variable transformée d'une variable aléatoire par une application affine, de telle sorte que sa moyenne soit nulle et son écart type égal à un."
   ]
  },
  {
   "cell_type": "markdown",
   "id": "ff65e00f",
   "metadata": {},
   "source": [
    "- Cela équivaut à un changement d’unité, et n’a pas d’incidence sur les profils de variation.\n",
    "- Les valeurs des coefficients de corrélation entre variables centrées réduites demeurent identiques à ce qu’elles étaient avant l’opération de centrage et réduction."
   ]
  },
  {
   "cell_type": "code",
   "execution_count": 18,
   "id": "9dbb48ce-3c18-401f-8738-48312d298b53",
   "metadata": {
    "tags": []
   },
   "outputs": [],
   "source": [
    "#crée une instance d'un objet de la classe StandardScaler de la bibliothèque scikit-learn \n",
    "scaler = StandardScaler()\n",
    "x = scaler.fit_transform(x)"
   ]
  },
  {
   "cell_type": "code",
   "execution_count": 19,
   "id": "19cb179b-c7ac-43f8-ac0f-b5b52540b64f",
   "metadata": {
    "scrolled": false,
    "tags": []
   },
   "outputs": [
    {
     "data": {
      "text/plain": [
       "<matplotlib.collections.PathCollection at 0x1f8d4f72400>"
      ]
     },
     "execution_count": 19,
     "metadata": {},
     "output_type": "execute_result"
    },
    {
     "data": {
      "image/png": "[encoded data removed]",
      "text/plain": [
       "<Figure size 640x480 with 1 Axes>"
      ]
     },
     "metadata": {},
     "output_type": "display_data"
    }
   ],
   "source": [
    "plt.scatter(x, y)"
   ]
  },
  {
   "cell_type": "markdown",
   "id": "eb0b4105",
   "metadata": {},
   "source": [
    "# Traitement de performance "
   ]
  },
  {
   "cell_type": "markdown",
   "id": "64741623",
   "metadata": {},
   "source": [
    "## Création de la matrice X"
   ]
  },
  {
   "cell_type": "markdown",
   "id": "b7354fe1",
   "metadata": {},
   "source": [
    "Création de la matrice X . Pour ca, on colle l'un contre l'autre le vecteur x et un vecteur 1 (avec np.ones) de dimension égale a celle de x"
   ]
  },
  {
   "cell_type": "code",
   "execution_count": 20,
   "id": "5a7edc6f",
   "metadata": {},
   "outputs": [
    {
     "data": {
      "text/plain": [
       "(200, 2)"
      ]
     },
     "execution_count": 20,
     "metadata": {},
     "output_type": "execute_result"
    }
   ],
   "source": [
    "X = np.hstack((x, np.ones(x.shape)))\n",
    "X.shape"
   ]
  },
  {
   "cell_type": "markdown",
   "id": "72d7cfad",
   "metadata": {},
   "source": [
    "## Creation du Theta"
   ]
  },
  {
   "cell_type": "markdown",
   "id": "e8a65433",
   "metadata": {},
   "source": [
    " création d'un vecteur parametre θ, initialisé avec des coefficients aléatoires. Ce vecteur est de dimension (2, 1). Si on désire toujours reproduire le meme vecteur \n",
    "θ, on utilise comme avant np.random.seed(0)"
   ]
  },
  {
   "cell_type": "code",
   "execution_count": 21,
   "id": "4519ba2a-f824-40f2-b4d0-59efc66d8fed",
   "metadata": {
    "tags": []
   },
   "outputs": [
    {
     "data": {
      "text/plain": [
       "array([[1.76405235],\n",
       "       [0.40015721]])"
      ]
     },
     "execution_count": 21,
     "metadata": {},
     "output_type": "execute_result"
    }
   ],
   "source": [
    "np.random.seed(0) # pour produire toujours le meme vecteur theta aléatoire\n",
    "theta = np.random.randn(2, 1)\n",
    "theta"
   ]
  },
  {
   "cell_type": "markdown",
   "id": "135fdfa3",
   "metadata": {},
   "source": [
    "## Modèle Linéaire\n",
    "On implémente un modèle selon l'équation matricielle F=X.θ et puis on teste le modèle initiale défini par la valeur initiale de θ qu'on a initialisé d'une manière aléatoire."
   ]
  },
  {
   "cell_type": "code",
   "execution_count": 22,
   "id": "48fa57ae",
   "metadata": {},
   "outputs": [
    {
     "name": "stdout",
     "output_type": "stream",
     "text": [
      "[[ 2.11102737]\n",
      " [-1.71207714]\n",
      " [-2.27441955]\n",
      " [ 0.49197557]\n",
      " [ 1.09551524]\n",
      " [-2.44950785]\n",
      " [-1.44429503]\n",
      " [-0.15276134]\n",
      " [-2.45156772]\n",
      " [ 1.48688908]\n",
      " [-1.26714687]\n",
      " [ 1.79380857]\n",
      " [-2.13846864]\n",
      " [-0.62035009]\n",
      " [ 1.57546316]\n",
      " [ 1.39625514]\n",
      " [-1.23212921]\n",
      " [ 3.16773676]\n",
      " [-1.20329114]\n",
      " [ 0.40546135]\n",
      " [ 1.87002348]\n",
      " [ 2.26139733]\n",
      " [-2.35681405]\n",
      " [ 2.07394985]\n",
      " [-1.34542164]\n",
      " [ 2.78666222]\n",
      " [ 0.31482741]\n",
      " [ 2.31701361]\n",
      " [ 2.49622163]\n",
      " [-1.17445306]\n",
      " [ 3.40462093]\n",
      " [-0.30313129]\n",
      " [-0.62652968]\n",
      " [ 2.84227851]\n",
      " [-0.65742762]\n",
      " [ 3.35930395]\n",
      " [ 2.86905672]\n",
      " [-1.08999871]\n",
      " [-1.74091521]\n",
      " [ 2.06777026]\n",
      " [ 1.54250537]\n",
      " [ 1.01724047]\n",
      " [ 3.41903996]\n",
      " [ 1.63313931]\n",
      " [-2.11169043]\n",
      " [ 0.97810309]\n",
      " [-0.78101936]\n",
      " [ 2.31289388]\n",
      " [ 2.05129137]\n",
      " [-1.25066797]\n",
      " [ 1.48688908]\n",
      " [-0.56061409]\n",
      " [ 1.82882623]\n",
      " [ 1.13259276]\n",
      " [ 2.7825425 ]\n",
      " [ 1.46835032]\n",
      " [-2.47834593]\n",
      " [ 0.17681663]\n",
      " [ 1.71347394]\n",
      " [ 1.71141408]\n",
      " [-1.52668952]\n",
      " [ 2.75370443]\n",
      " [ 2.30053471]\n",
      " [-0.51323725]\n",
      " [ 0.07176365]\n",
      " [-1.20741086]\n",
      " [-1.97985924]\n",
      " [ 0.24067237]\n",
      " [ 2.26139733]\n",
      " [ 1.83706568]\n",
      " [ 1.47247005]\n",
      " [-0.36698702]\n",
      " [-2.07667277]\n",
      " [ 0.03674599]\n",
      " [ 1.76703036]\n",
      " [-2.28059914]\n",
      " [-2.06225373]\n",
      " [-0.14658175]\n",
      " [-2.51748331]\n",
      " [-0.23927556]\n",
      " [-1.05498105]\n",
      " [ 2.31083402]\n",
      " [-1.07763953]\n",
      " [-1.21977004]\n",
      " [ 1.76909023]\n",
      " [ 1.35093817]\n",
      " [-1.05704091]\n",
      " [-0.34844826]\n",
      " [-0.80985743]\n",
      " [-0.36698702]\n",
      " [ 0.13767925]\n",
      " [-2.03959525]\n",
      " [ 1.85560444]\n",
      " [ 2.53947874]\n",
      " [-0.41642372]\n",
      " [ 0.73503933]\n",
      " [ 1.44157211]\n",
      " [ 1.1799696 ]\n",
      " [ 3.33870533]\n",
      " [ 0.15621801]\n",
      " [ 1.95241797]\n",
      " [ 3.47671611]\n",
      " [ 3.14301841]\n",
      " [ 1.24176547]\n",
      " [ 2.27787622]\n",
      " [ 0.21183429]\n",
      " [-2.11375029]\n",
      " [-0.76660032]\n",
      " [-2.35887391]\n",
      " [ 2.63217255]\n",
      " [ 2.02245329]\n",
      " [ 2.34997141]\n",
      " [ 0.99046226]\n",
      " [ 1.68875559]\n",
      " [-1.01790353]\n",
      " [-1.08175926]\n",
      " [ 0.2386125 ]\n",
      " [-1.05498105]\n",
      " [-0.03946891]\n",
      " [-2.22910258]\n",
      " [ 0.28186961]\n",
      " [-2.24146176]\n",
      " [ 1.98537577]\n",
      " [-0.09302533]\n",
      " [ 2.0986682 ]\n",
      " [-0.83251591]\n",
      " [-2.46804662]\n",
      " [-0.97670628]\n",
      " [ 1.90916086]\n",
      " [-1.40103792]\n",
      " [-2.61429684]\n",
      " [ 2.83403906]\n",
      " [-2.45568744]\n",
      " [ 1.89886155]\n",
      " [-1.86862667]\n",
      " [-1.63380237]\n",
      " [-2.10139112]\n",
      " [ 3.00912736]\n",
      " [-1.74297507]\n",
      " [ 1.1799696 ]\n",
      " [-1.11677692]\n",
      " [ 1.36123748]\n",
      " [ 1.91328059]\n",
      " [-0.47409987]\n",
      " [-0.6471283 ]\n",
      " [ 0.26127099]\n",
      " [ 2.31701361]\n",
      " [ 2.38086934]\n",
      " [-1.84596819]\n",
      " [-1.70795741]\n",
      " [ 3.15331772]\n",
      " [-0.13628244]\n",
      " [ 1.44157211]\n",
      " [ 0.89982832]\n",
      " [ 1.2397056 ]\n",
      " [-2.54426152]\n",
      " [-0.69450514]\n",
      " [ 0.45695791]\n",
      " [-2.38771198]\n",
      " [ 0.08412283]\n",
      " [ 0.92454666]\n",
      " [-0.86341385]\n",
      " [ 1.25206478]\n",
      " [ 0.73915905]\n",
      " [-0.21455721]\n",
      " [ 2.20166132]\n",
      " [-2.26000052]\n",
      " [ 1.63107945]\n",
      " [ 1.80822761]\n",
      " [ 3.22747276]\n",
      " [-1.59878471]\n",
      " [ 0.75975768]\n",
      " [-2.22498286]\n",
      " [ 0.84009231]\n",
      " [ 1.95241797]\n",
      " [ 3.07504295]\n",
      " [ 2.48798218]\n",
      " [ 0.87716983]\n",
      " [ 3.07092323]\n",
      " [ 0.78241616]\n",
      " [ 0.59702855]\n",
      " [ 1.87208334]\n",
      " [-1.47107324]\n",
      " [ 3.29544822]\n",
      " [ 2.59921475]\n",
      " [ 1.59400193]\n",
      " [ 0.24479209]\n",
      " [ 1.30768106]\n",
      " [ 3.26249042]\n",
      " [-2.24352162]\n",
      " [-1.81507025]\n",
      " [-1.07351981]\n",
      " [-2.27441955]\n",
      " [ 0.80713451]\n",
      " [ 0.45489805]\n",
      " [-1.84184846]\n",
      " [-0.68832555]\n",
      " [ 1.01724047]\n",
      " [ 3.21305373]\n",
      " [ 2.15222462]]\n"
     ]
    }
   ],
   "source": [
    "print(model(X,theta))"
   ]
  },
  {
   "cell_type": "markdown",
   "id": "780dc229",
   "metadata": {},
   "source": [
    "## Fonction coût : Erreur Quadratique Moyenne\n",
    "On mesure les erreurs du modele sur le Dataset X, y en implémenterl'erreur quadratique moyenne"
   ]
  },
  {
   "cell_type": "code",
   "execution_count": 23,
   "id": "3f186d52",
   "metadata": {
    "scrolled": false
   },
   "outputs": [
    {
     "data": {
      "text/plain": [
       "115.55821114194416"
      ]
     },
     "execution_count": 23,
     "metadata": {},
     "output_type": "execute_result"
    }
   ],
   "source": [
    "cost_function(X, y, theta)"
   ]
  },
  {
   "cell_type": "code",
   "execution_count": 24,
   "id": "8d7d501d",
   "metadata": {},
   "outputs": [
    {
     "data": {
      "text/plain": [
       "((200, 2), (200, 1))"
      ]
     },
     "execution_count": 24,
     "metadata": {},
     "output_type": "execute_result"
    }
   ],
   "source": [
    "(X.shape,y.shape)"
   ]
  },
  {
   "cell_type": "markdown",
   "id": "14717e2c",
   "metadata": {},
   "source": [
    "##  Phase d'entrainement\n",
    "Ensuite on utilise la fonction dans la descente de gradient et onn définit un nombre d'itérations, ainsi qu'un pas d'apprentissage α. Une fois le modele entrainé, on observe les resultats par rapport a notre Dataset"
   ]
  },
  {
   "cell_type": "code",
   "execution_count": 25,
   "id": "1bded31c-d7b8-400f-9a21-469e05128de9",
   "metadata": {
    "tags": []
   },
   "outputs": [],
   "source": [
    "theta_final, cost_hist = gradient_descent(X, y, theta, learning_rate=0.01, n_iterations=1000)"
   ]
  },
  {
   "cell_type": "code",
   "execution_count": 26,
   "id": "76a40bd3-908d-4761-ba5e-81843eedd6cd",
   "metadata": {
    "tags": []
   },
   "outputs": [
    {
     "data": {
      "text/plain": [
       "(2, 1)"
      ]
     },
     "execution_count": 26,
     "metadata": {},
     "output_type": "execute_result"
    }
   ],
   "source": [
    "theta_final.shape"
   ]
  },
  {
   "cell_type": "markdown",
   "id": "801bf9c3",
   "metadata": {},
   "source": [
    "> On remarque que la fonction de la descente du gradient est converge et la fonction cout est constante apres 400 itérations."
   ]
  },
  {
   "cell_type": "code",
   "execution_count": 27,
   "id": "a0909b33-c34c-4a4a-9a1b-329b67731851",
   "metadata": {
    "tags": []
   },
   "outputs": [
    {
     "data": {
      "text/plain": [
       "[<matplotlib.lines.Line2D at 0x1f8d51d5610>]"
      ]
     },
     "execution_count": 27,
     "metadata": {},
     "output_type": "execute_result"
    },
    {
     "data": {
      "image/png": "[encoded data removed]",
      "text/plain": [
       "<Figure size 640x480 with 1 Axes>"
      ]
     },
     "metadata": {},
     "output_type": "display_data"
    }
   ],
   "source": [
    "#J en fonction du nombre d'itérations.\n",
    "plt.plot(range(1000) ,cost_hist)"
   ]
  },
  {
   "cell_type": "code",
   "execution_count": 28,
   "id": "fdc16dbf-c2b8-434c-9f25-cdb72c08392a",
   "metadata": {
    "scrolled": true,
    "tags": []
   },
   "outputs": [
    {
     "data": {
      "text/plain": [
       "[<matplotlib.lines.Line2D at 0x1f8d50bdc40>]"
      ]
     },
     "execution_count": 28,
     "metadata": {},
     "output_type": "execute_result"
    },
    {
     "data": {
      "image/png": "[encoded data removed]",
      "text/plain": [
       "<Figure size 640x480 with 1 Axes>"
      ]
     },
     "metadata": {},
     "output_type": "display_data"
    }
   ],
   "source": [
    "predictions = model(X, theta_final)\n",
    "plt.scatter(x, y)\n",
    "plt.plot(x, predictions, c='r')"
   ]
  },
  {
   "cell_type": "markdown",
   "id": "777dab2f",
   "metadata": {},
   "source": [
    "### Score"
   ]
  },
  {
   "cell_type": "code",
   "execution_count": 29,
   "id": "2bf75bd7-f59c-4bd4-8455-c63a881eb38e",
   "metadata": {},
   "outputs": [],
   "source": [
    "score = coef_determination(y, predictions)"
   ]
  },
  {
   "cell_type": "code",
   "execution_count": 30,
   "id": "4adbad8d",
   "metadata": {},
   "outputs": [
    {
     "name": "stdout",
     "output_type": "stream",
     "text": [
      "81.218 %\n"
     ]
    }
   ],
   "source": [
    "print(((score*100).round(3)),\"%\")"
   ]
  },
  {
   "cell_type": "markdown",
   "id": "6b76666c",
   "metadata": {},
   "source": [
    "# On teste pour une faible correlation"
   ]
  },
  {
   "cell_type": "markdown",
   "id": "b2af6f2f",
   "metadata": {},
   "source": [
    "Si on prend par exemple variable avec target de faible correlation , dans ce cas ona Newspaper avec sales , avec une correlation de 0.16"
   ]
  },
  {
   "cell_type": "markdown",
   "id": "3cf40cff",
   "metadata": {},
   "source": [
    "On remarque que la courbe n est pas lineaire."
   ]
  },
  {
   "cell_type": "code",
   "execution_count": 31,
   "id": "c86f623d",
   "metadata": {},
   "outputs": [
    {
     "data": {
      "text/plain": [
       "<matplotlib.collections.PathCollection at 0x1f8d5120b80>"
      ]
     },
     "execution_count": 31,
     "metadata": {},
     "output_type": "execute_result"
    },
    {
     "data": {
      "image/png": "[encoded data removed]",
      "text/plain": [
       "<Figure size 640x480 with 1 Axes>"
      ]
     },
     "metadata": {},
     "output_type": "display_data"
    }
   ],
   "source": [
    "plt.scatter(df[\"Newspaper\"], df[\"Sales\"])"
   ]
  },
  {
   "cell_type": "code",
   "execution_count": 32,
   "id": "3f1b0e6b",
   "metadata": {},
   "outputs": [
    {
     "data": {
      "text/plain": [
       "((200,), (200,))"
      ]
     },
     "execution_count": 32,
     "metadata": {},
     "output_type": "execute_result"
    }
   ],
   "source": [
    "x, y = np.array(df[\"Newspaper\"]), np.array(df[\"Sales\"])\n",
    "x.shape, y.shape"
   ]
  },
  {
   "cell_type": "code",
   "execution_count": 33,
   "id": "0fdb294b",
   "metadata": {},
   "outputs": [],
   "source": [
    "x = x.reshape(-1, 1)\n",
    "y = y.reshape(-1,1)"
   ]
  },
  {
   "cell_type": "code",
   "execution_count": 34,
   "id": "336e20a1",
   "metadata": {},
   "outputs": [
    {
     "data": {
      "text/plain": [
       "((200, 1), (200, 1))"
      ]
     },
     "execution_count": 34,
     "metadata": {},
     "output_type": "execute_result"
    }
   ],
   "source": [
    "x.shape, y.shape"
   ]
  },
  {
   "cell_type": "code",
   "execution_count": 35,
   "id": "0cd82082",
   "metadata": {},
   "outputs": [],
   "source": [
    "scaler = StandardScaler()\n",
    "x = scaler.fit_transform(x)"
   ]
  },
  {
   "cell_type": "code",
   "execution_count": 36,
   "id": "b24d0e2e",
   "metadata": {},
   "outputs": [
    {
     "data": {
      "text/plain": [
       "<matplotlib.collections.PathCollection at 0x1f8d5186370>"
      ]
     },
     "execution_count": 36,
     "metadata": {},
     "output_type": "execute_result"
    },
    {
     "data": {
      "image/png": "[encoded data removed]",
      "text/plain": [
       "<Figure size 640x480 with 1 Axes>"
      ]
     },
     "metadata": {},
     "output_type": "display_data"
    }
   ],
   "source": [
    "plt.scatter(x, y)"
   ]
  },
  {
   "cell_type": "code",
   "execution_count": 37,
   "id": "63ca67e9",
   "metadata": {},
   "outputs": [
    {
     "data": {
      "text/plain": [
       "(200, 2)"
      ]
     },
     "execution_count": 37,
     "metadata": {},
     "output_type": "execute_result"
    }
   ],
   "source": [
    "X = np.hstack((x, np.ones(x.shape)))\n",
    "X.shape"
   ]
  },
  {
   "cell_type": "code",
   "execution_count": 38,
   "id": "cdd198fc",
   "metadata": {},
   "outputs": [],
   "source": [
    "theta_final, cost_hist = gradient_descent(X, y, theta, learning_rate=0.01, n_iterations=1000)"
   ]
  },
  {
   "cell_type": "code",
   "execution_count": 39,
   "id": "80f8d2a8",
   "metadata": {},
   "outputs": [
    {
     "data": {
      "text/plain": [
       "[<matplotlib.lines.Line2D at 0x1f8d521df40>]"
      ]
     },
     "execution_count": 39,
     "metadata": {},
     "output_type": "execute_result"
    },
    {
     "data": {
      "image/png": "[encoded data removed]",
      "text/plain": [
       "<Figure size 640x480 with 1 Axes>"
      ]
     },
     "metadata": {},
     "output_type": "display_data"
    }
   ],
   "source": [
    "plt.plot(range(1000) ,cost_hist)"
   ]
  },
  {
   "cell_type": "code",
   "execution_count": 40,
   "id": "cb737643",
   "metadata": {},
   "outputs": [
    {
     "data": {
      "text/plain": [
       "[<matplotlib.lines.Line2D at 0x1f8d5290640>]"
      ]
     },
     "execution_count": 40,
     "metadata": {},
     "output_type": "execute_result"
    },
    {
     "data": {
      "image/png": "[encoded data removed]",
      "text/plain": [
       "<Figure size 640x480 with 1 Axes>"
      ]
     },
     "metadata": {},
     "output_type": "display_data"
    }
   ],
   "source": [
    "predictions = model(X, theta_final)\n",
    "plt.scatter(x, y)\n",
    "plt.plot(x, predictions, c='r')"
   ]
  },
  {
   "cell_type": "code",
   "execution_count": 41,
   "id": "523c2bae",
   "metadata": {},
   "outputs": [],
   "source": [
    "score = coef_determination(y, predictions)"
   ]
  },
  {
   "cell_type": "code",
   "execution_count": 42,
   "id": "d73a6759",
   "metadata": {},
   "outputs": [
    {
     "name": "stdout",
     "output_type": "stream",
     "text": [
      "2.495 %\n"
     ]
    }
   ],
   "source": [
    "print(((score*100).round(3)),\"%\")"
   ]
  },
  {
   "cell_type": "markdown",
   "id": "2cf8bb23",
   "metadata": {},
   "source": [
    "# Conclusion"
   ]
  },
  {
   "cell_type": "markdown",
   "id": "fba56be4",
   "metadata": {},
   "source": [
    "Grosso-modo, l'analyse de corrélation a révélé une forte corrélation positive (0.81) entre les ventes et la publicité à la télévision, indiquant une relation linéaire significative. Cela suggère que l'augmentation des dépenses publicitaires à la télévision est généralement associée à une augmentation des ventes. En revanche, la corrélation entre les ventes et la publicité dans les journaux est faible (0.02), suggérant une association limitée.\n",
    "\n",
    "Ces résultats suggèrent que la publicité à la télévision peut jouer un rôle plus important dans l'augmentation des ventes par rapport à la publicité dans les journaux. Cependant, il est important de noter que la corrélation ne prouve pas la causalité, et d'autres facteurs peuvent influencer les ventes. Ces conclusions peuvent guider les décisions en matière de stratégie marketing, en mettant en avant l'importance de la publicité télévisée pour stimuler les ventes."
   ]
  },
  {
   "cell_type": "markdown",
   "id": "796e5a30",
   "metadata": {},
   "source": [
    "et donc si on a une forte correlation (soit positive ou negative) on aura une forte performance."
   ]
  }
 ],
 "metadata": {
  "kernelspec": {
   "display_name": "Python 3 (ipykernel)",
   "language": "python",
   "name": "python3"
  },
  "language_info": {
   "codemirror_mode": {
    "name": "ipython",
    "version": 3
   },
   "file_extension": ".py",
   "mimetype": "text/x-python",
   "name": "python",
   "nbconvert_exporter": "python",
   "pygments_lexer": "ipython3",
   "version": "3.9.13"
  },
  "toc": {
   "base_numbering": 1,
   "nav_menu": {},
   "number_sections": true,
   "sideBar": true,
   "skip_h1_title": false,
   "title_cell": "Table of Contents",
   "title_sidebar": "Contents",
   "toc_cell": true,
   "toc_position": {},
   "toc_section_display": true,
   "toc_window_display": false
  }
 },
 "nbformat": 4,
 "nbformat_minor": 5
}
